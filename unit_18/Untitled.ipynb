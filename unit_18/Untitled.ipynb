{
 "cells": [
  {
   "cell_type": "code",
   "execution_count": 4,
   "id": "8bea605c",
   "metadata": {},
   "outputs": [
    {
     "name": "stdout",
     "output_type": "stream",
     "text": [
      "you can come in, but no drinking!\n",
      "free juice\n"
     ]
    }
   ],
   "source": [
    "age = 20\n",
    "isBirthday = True\n",
    "if age >= 21:\n",
    "    print('you can drink')\n",
    "    if isBirthday == True:\n",
    "        print('free drink')\n",
    "elif age>= 18:\n",
    "    print('you can come in, but no drinking!')\n",
    "    if isBirthday == True:\n",
    "        print('free juice')\n",
    "else:\n",
    "    print('sorry, go home kid')"
   ]
  },
  {
   "cell_type": "code",
   "execution_count": 6,
   "id": "69e10bd1",
   "metadata": {},
   "outputs": [],
   "source": [
    "color = 'teal' "
   ]
  },
  {
   "cell_type": "code",
   "execution_count": 8,
   "id": "38a9eafa",
   "metadata": {},
   "outputs": [
    {
     "name": "stdout",
     "output_type": "stream",
     "text": [
      "good choice\n"
     ]
    }
   ],
   "source": [
    "print('good choice') if color == 'teal' else print('bad choice')"
   ]
  },
  {
   "cell_type": "code",
   "execution_count": 9,
   "id": "f347038d",
   "metadata": {},
   "outputs": [],
   "source": [
    "x = 102"
   ]
  },
  {
   "cell_type": "code",
   "execution_count": 10,
   "id": "6cc2f95e",
   "metadata": {},
   "outputs": [],
   "source": [
    "x = 103"
   ]
  },
  {
   "cell_type": "code",
   "execution_count": 11,
   "id": "e3a48762",
   "metadata": {},
   "outputs": [
    {
     "data": {
      "text/plain": [
       "True"
      ]
     },
     "execution_count": 11,
     "metadata": {},
     "output_type": "execute_result"
    }
   ],
   "source": [
    "x == 104 or x >100"
   ]
  },
  {
   "cell_type": "code",
   "execution_count": 12,
   "id": "d5df7c98",
   "metadata": {},
   "outputs": [],
   "source": [
    "age = 68"
   ]
  },
  {
   "cell_type": "code",
   "execution_count": 13,
   "id": "26b5fccd",
   "metadata": {},
   "outputs": [
    {
     "name": "stdout",
     "output_type": "stream",
     "text": [
      "your ticket is 5 dollars\n"
     ]
    }
   ],
   "source": [
    "if age < 10 or age >= 65:\n",
    "    print('your ticket is 5 dollars')\n",
    "else:\n",
    "    print('your ticket is 10 dollaz')"
   ]
  },
  {
   "cell_type": "code",
   "execution_count": 15,
   "id": "35cf2b25",
   "metadata": {},
   "outputs": [
    {
     "name": "stdout",
     "output_type": "stream",
     "text": [
      "0\n",
      "10\n",
      "20\n",
      "30\n",
      "40\n",
      "all done\n"
     ]
    }
   ],
   "source": [
    "num = 0\n",
    "while num <= 100:\n",
    "    if num == 50:\n",
    "        break\n",
    "    print(num)\n",
    "    num = num + 10\n",
    "    \n",
    "\n",
    "print('all done')"
   ]
  },
  {
   "cell_type": "code",
   "execution_count": 16,
   "id": "403d6885",
   "metadata": {},
   "outputs": [
    {
     "name": "stdout",
     "output_type": "stream",
     "text": [
      "red\n",
      "orange\n",
      "green\n"
     ]
    }
   ],
   "source": [
    "colors = ['red', 'orange', 'green'\n",
    "]\n",
    "for color in colors:\n",
    "    print(color)\n",
    "    "
   ]
  },
  {
   "cell_type": "code",
   "execution_count": 17,
   "id": "116d5fc1",
   "metadata": {},
   "outputs": [
    {
     "name": "stdout",
     "output_type": "stream",
     "text": [
      "0\n",
      "1\n",
      "2\n",
      "3\n",
      "4\n",
      "5\n",
      "6\n",
      "7\n",
      "8\n",
      "9\n"
     ]
    }
   ],
   "source": [
    "for n in range(10):\n",
    "    print(n)"
   ]
  },
  {
   "cell_type": "code",
   "execution_count": 18,
   "id": "d7b08b74",
   "metadata": {},
   "outputs": [],
   "source": [
    "def greet(person):\n",
    "    return f\"hello there {person}\""
   ]
  },
  {
   "cell_type": "code",
   "execution_count": 19,
   "id": "54bd70dc",
   "metadata": {},
   "outputs": [
    {
     "data": {
      "text/plain": [
       "'hello there sam'"
      ]
     },
     "execution_count": 19,
     "metadata": {},
     "output_type": "execute_result"
    }
   ],
   "source": [
    "greet('sam')"
   ]
  },
  {
   "cell_type": "code",
   "execution_count": 20,
   "id": "24302bcb",
   "metadata": {},
   "outputs": [],
   "source": [
    "def three_things(a,b,c):\n",
    "    print('hi')"
   ]
  },
  {
   "cell_type": "code",
   "execution_count": 21,
   "id": "cd5c98fc",
   "metadata": {},
   "outputs": [
    {
     "name": "stdout",
     "output_type": "stream",
     "text": [
      "hi\n"
     ]
    }
   ],
   "source": [
    "three_things(1,2,3)"
   ]
  },
  {
   "cell_type": "code",
   "execution_count": 22,
   "id": "6decf84e",
   "metadata": {},
   "outputs": [
    {
     "ename": "TypeError",
     "evalue": "three_things() missing 1 required positional argument: 'c'",
     "output_type": "error",
     "traceback": [
      "\u001b[0;31m---------------------------------------------------------------------------\u001b[0m",
      "\u001b[0;31mTypeError\u001b[0m                                 Traceback (most recent call last)",
      "\u001b[0;32m<ipython-input-22-d8ec53202114>\u001b[0m in \u001b[0;36m<module>\u001b[0;34m\u001b[0m\n\u001b[0;32m----> 1\u001b[0;31m \u001b[0mthree_things\u001b[0m\u001b[0;34m(\u001b[0m\u001b[0;36m1\u001b[0m\u001b[0;34m,\u001b[0m\u001b[0;36m3\u001b[0m\u001b[0;34m)\u001b[0m\u001b[0;34m\u001b[0m\u001b[0;34m\u001b[0m\u001b[0m\n\u001b[0m",
      "\u001b[0;31mTypeError\u001b[0m: three_things() missing 1 required positional argument: 'c'"
     ]
    }
   ],
   "source": [
    "three_things(1,3)"
   ]
  },
  {
   "cell_type": "code",
   "execution_count": 25,
   "id": "fe3852ff",
   "metadata": {},
   "outputs": [
    {
     "ename": "SyntaxError",
     "evalue": "unexpected EOF while parsing (<ipython-input-25-88352fc3aade>, line 1)",
     "output_type": "error",
     "traceback": [
      "\u001b[0;36m  File \u001b[0;32m\"<ipython-input-25-88352fc3aade>\"\u001b[0;36m, line \u001b[0;32m1\u001b[0m\n\u001b[0;31m    def send_email(to_email):\u001b[0m\n\u001b[0m                             ^\u001b[0m\n\u001b[0;31mSyntaxError\u001b[0m\u001b[0;31m:\u001b[0m unexpected EOF while parsing\n"
     ]
    }
   ],
   "source": [
    "def send_email(to_email):"
   ]
  },
  {
   "cell_type": "code",
   "execution_count": 27,
   "id": "7622381a",
   "metadata": {},
   "outputs": [
    {
     "ename": "SyntaxError",
     "evalue": "unexpected EOF while parsing (<ipython-input-27-70b26ae8d5b0>, line 1)",
     "output_type": "error",
     "traceback": [
      "\u001b[0;36m  File \u001b[0;32m\"<ipython-input-27-70b26ae8d5b0>\"\u001b[0;36m, line \u001b[0;32m1\u001b[0m\n\u001b[0;31m    def send_email(a,b):\u001b[0m\n\u001b[0m                        ^\u001b[0m\n\u001b[0;31mSyntaxError\u001b[0m\u001b[0;31m:\u001b[0m unexpected EOF while parsing\n"
     ]
    }
   ],
   "source": [
    "def send_email(a,b):"
   ]
  },
  {
   "cell_type": "code",
   "execution_count": 28,
   "id": "096d489e",
   "metadata": {},
   "outputs": [
    {
     "ename": "SyntaxError",
     "evalue": "unexpected EOF while parsing (<ipython-input-28-70b26ae8d5b0>, line 1)",
     "output_type": "error",
     "traceback": [
      "\u001b[0;36m  File \u001b[0;32m\"<ipython-input-28-70b26ae8d5b0>\"\u001b[0;36m, line \u001b[0;32m1\u001b[0m\n\u001b[0;31m    def send_email(a,b):\u001b[0m\n\u001b[0m                        ^\u001b[0m\n\u001b[0;31mSyntaxError\u001b[0m\u001b[0;31m:\u001b[0m unexpected EOF while parsing\n"
     ]
    }
   ],
   "source": [
    "def send_email(a,b):"
   ]
  },
  {
   "cell_type": "code",
   "execution_count": 30,
   "id": "a2a510e6",
   "metadata": {},
   "outputs": [],
   "source": [
    "def send_email(to_email, from_email, subject,body):\n",
    "    email=f'''\n",
    "        to: {to_email}\n",
    "        from: {from_email}\n",
    "        subject: {subject}\n",
    "        -----------\n",
    "        body: {body}\n",
    "        '''\n",
    "    print(email)"
   ]
  },
  {
   "cell_type": "code",
   "execution_count": 31,
   "id": "28f013b6",
   "metadata": {},
   "outputs": [
    {
     "name": "stdout",
     "output_type": "stream",
     "text": [
      "\n",
      "        to: blue@gmail.com\n",
      "        from: colt@huamns.com\n",
      "        subject: meow\n",
      "        -----------\n",
      "        body: hi i lvoe you\n",
      "        \n"
     ]
    }
   ],
   "source": [
    "send_email(subject=\"meow\", to_email=\"blue@gmail.com\", from_email=\"colt@huamns.com\", body=\"hi i lvoe you\")"
   ]
  },
  {
   "cell_type": "code",
   "execution_count": null,
   "id": "beb2632c",
   "metadata": {},
   "outputs": [],
   "source": []
  }
 ],
 "metadata": {
  "kernelspec": {
   "display_name": "Python 3",
   "language": "python",
   "name": "python3"
  },
  "language_info": {
   "codemirror_mode": {
    "name": "ipython",
    "version": 3
   },
   "file_extension": ".py",
   "mimetype": "text/x-python",
   "name": "python",
   "nbconvert_exporter": "python",
   "pygments_lexer": "ipython3",
   "version": "3.8.8"
  }
 },
 "nbformat": 4,
 "nbformat_minor": 5
}
